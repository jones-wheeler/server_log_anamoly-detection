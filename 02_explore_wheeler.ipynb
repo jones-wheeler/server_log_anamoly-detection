{
 "cells": [
  {
   "cell_type": "code",
   "execution_count": 1,
   "metadata": {},
   "outputs": [],
   "source": [
    "import warnings\n",
    "warnings.filterwarnings(\"ignore\")\n",
    "import matplotlib.pyplot as plt\n",
    "\n",
    "import numpy as np\n",
    "import pandas as pd\n",
    "\n",
    "# from matplotlib import style\n",
    "import seaborn as sns\n",
    "%matplotlib inline\n",
    "\n",
    "import wrangle\n",
    "\n",
    "from env import geo_key"
   ]
  },
  {
   "cell_type": "code",
   "execution_count": 2,
   "metadata": {},
   "outputs": [
    {
     "name": "stdout",
     "output_type": "stream",
     "text": [
      "The df has 847330 rows and 10 columns.\n"
     ]
    }
   ],
   "source": [
    "df = wrangle.get_curriculum_logs_data()"
   ]
  },
  {
   "cell_type": "code",
   "execution_count": 3,
   "metadata": {},
   "outputs": [
    {
     "data": {
      "text/html": [
       "<div>\n",
       "<style scoped>\n",
       "    .dataframe tbody tr th:only-of-type {\n",
       "        vertical-align: middle;\n",
       "    }\n",
       "\n",
       "    .dataframe tbody tr th {\n",
       "        vertical-align: top;\n",
       "    }\n",
       "\n",
       "    .dataframe thead th {\n",
       "        text-align: right;\n",
       "    }\n",
       "</style>\n",
       "<table border=\"1\" class=\"dataframe\">\n",
       "  <thead>\n",
       "    <tr style=\"text-align: right;\">\n",
       "      <th></th>\n",
       "      <th>cohortid</th>\n",
       "      <th>start_date</th>\n",
       "      <th>end_date</th>\n",
       "      <th>cohortname</th>\n",
       "      <th>program_id</th>\n",
       "      <th>date</th>\n",
       "      <th>time</th>\n",
       "      <th>path</th>\n",
       "      <th>user_id</th>\n",
       "      <th>ip</th>\n",
       "      <th>program_name</th>\n",
       "      <th>is_staff</th>\n",
       "    </tr>\n",
       "  </thead>\n",
       "  <tbody>\n",
       "    <tr>\n",
       "      <th>0</th>\n",
       "      <td>1</td>\n",
       "      <td>2014-02-04</td>\n",
       "      <td>2014-04-22</td>\n",
       "      <td>Arches</td>\n",
       "      <td>1</td>\n",
       "      <td>2018-01-26</td>\n",
       "      <td>10:14:47</td>\n",
       "      <td>/</td>\n",
       "      <td>11</td>\n",
       "      <td>97.105.19.61</td>\n",
       "      <td>web_dev</td>\n",
       "      <td>False</td>\n",
       "    </tr>\n",
       "    <tr>\n",
       "      <th>1</th>\n",
       "      <td>1</td>\n",
       "      <td>2014-02-04</td>\n",
       "      <td>2014-04-22</td>\n",
       "      <td>Arches</td>\n",
       "      <td>1</td>\n",
       "      <td>2018-01-26</td>\n",
       "      <td>10:14:51</td>\n",
       "      <td>javascript-i</td>\n",
       "      <td>11</td>\n",
       "      <td>97.105.19.61</td>\n",
       "      <td>web_dev</td>\n",
       "      <td>False</td>\n",
       "    </tr>\n",
       "    <tr>\n",
       "      <th>2</th>\n",
       "      <td>1</td>\n",
       "      <td>2014-02-04</td>\n",
       "      <td>2014-04-22</td>\n",
       "      <td>Arches</td>\n",
       "      <td>1</td>\n",
       "      <td>2018-01-26</td>\n",
       "      <td>10:15:02</td>\n",
       "      <td>javascript-i/functions</td>\n",
       "      <td>11</td>\n",
       "      <td>97.105.19.61</td>\n",
       "      <td>web_dev</td>\n",
       "      <td>False</td>\n",
       "    </tr>\n",
       "    <tr>\n",
       "      <th>3</th>\n",
       "      <td>1</td>\n",
       "      <td>2014-02-04</td>\n",
       "      <td>2014-04-22</td>\n",
       "      <td>Arches</td>\n",
       "      <td>1</td>\n",
       "      <td>2018-01-26</td>\n",
       "      <td>11:46:29</td>\n",
       "      <td>appendix/further-reading/javascript/hoisting.html</td>\n",
       "      <td>11</td>\n",
       "      <td>97.105.19.61</td>\n",
       "      <td>web_dev</td>\n",
       "      <td>False</td>\n",
       "    </tr>\n",
       "    <tr>\n",
       "      <th>4</th>\n",
       "      <td>1</td>\n",
       "      <td>2014-02-04</td>\n",
       "      <td>2014-04-22</td>\n",
       "      <td>Arches</td>\n",
       "      <td>1</td>\n",
       "      <td>2018-01-26</td>\n",
       "      <td>11:46:39</td>\n",
       "      <td>appendix</td>\n",
       "      <td>11</td>\n",
       "      <td>97.105.19.61</td>\n",
       "      <td>web_dev</td>\n",
       "      <td>False</td>\n",
       "    </tr>\n",
       "  </tbody>\n",
       "</table>\n",
       "</div>"
      ],
      "text/plain": [
       "   cohortid start_date   end_date cohortname  program_id       date      time  \\\n",
       "0         1 2014-02-04 2014-04-22     Arches           1 2018-01-26  10:14:47   \n",
       "1         1 2014-02-04 2014-04-22     Arches           1 2018-01-26  10:14:51   \n",
       "2         1 2014-02-04 2014-04-22     Arches           1 2018-01-26  10:15:02   \n",
       "3         1 2014-02-04 2014-04-22     Arches           1 2018-01-26  11:46:29   \n",
       "4         1 2014-02-04 2014-04-22     Arches           1 2018-01-26  11:46:39   \n",
       "\n",
       "                                                path  user_id            ip  \\\n",
       "0                                                  /       11  97.105.19.61   \n",
       "1                                       javascript-i       11  97.105.19.61   \n",
       "2                             javascript-i/functions       11  97.105.19.61   \n",
       "3  appendix/further-reading/javascript/hoisting.html       11  97.105.19.61   \n",
       "4                                           appendix       11  97.105.19.61   \n",
       "\n",
       "  program_name  is_staff  \n",
       "0      web_dev     False  \n",
       "1      web_dev     False  \n",
       "2      web_dev     False  \n",
       "3      web_dev     False  \n",
       "4      web_dev     False  "
      ]
     },
     "execution_count": 3,
     "metadata": {},
     "output_type": "execute_result"
    }
   ],
   "source": [
    "df.head()"
   ]
  },
  {
   "cell_type": "code",
   "execution_count": 4,
   "metadata": {},
   "outputs": [
    {
     "name": "stdout",
     "output_type": "stream",
     "text": [
      "<class 'pandas.core.frame.DataFrame'>\n",
      "Int64Index: 847330 entries, 0 to 847329\n",
      "Data columns (total 12 columns):\n",
      " #   Column        Non-Null Count   Dtype         \n",
      "---  ------        --------------   -----         \n",
      " 0   cohortid      847330 non-null  int64         \n",
      " 1   start_date    847330 non-null  datetime64[ns]\n",
      " 2   end_date      847330 non-null  datetime64[ns]\n",
      " 3   cohortname    847330 non-null  object        \n",
      " 4   program_id    847330 non-null  int64         \n",
      " 5   date          847330 non-null  datetime64[ns]\n",
      " 6   time          847330 non-null  object        \n",
      " 7   path          847329 non-null  object        \n",
      " 8   user_id       847330 non-null  int64         \n",
      " 9   ip            847330 non-null  object        \n",
      " 10  program_name  847330 non-null  object        \n",
      " 11  is_staff      847330 non-null  bool          \n",
      "dtypes: bool(1), datetime64[ns](3), int64(3), object(5)\n",
      "memory usage: 78.4+ MB\n"
     ]
    }
   ],
   "source": [
    "df.info()"
   ]
  },
  {
   "cell_type": "markdown",
   "metadata": {},
   "source": [
    "### Q3: Are there students who, when active, hardly access the curriculum? If so, what information do you have about these students?"
   ]
  },
  {
   "cell_type": "code",
   "execution_count": 5,
   "metadata": {},
   "outputs": [],
   "source": [
    "# Active access\n",
    "df_active = df[(df.start_date <= df.date) & (df.date <= df.end_date)]"
   ]
  },
  {
   "cell_type": "code",
   "execution_count": 6,
   "metadata": {},
   "outputs": [
    {
     "data": {
      "text/plain": [
       "(647496, 12)"
      ]
     },
     "execution_count": 6,
     "metadata": {},
     "output_type": "execute_result"
    }
   ],
   "source": [
    "df_active.shape"
   ]
  },
  {
   "cell_type": "code",
   "execution_count": 7,
   "metadata": {},
   "outputs": [
    {
     "data": {
      "text/plain": [
       "count     731.000000\n",
       "mean      885.766074\n",
       "std       647.254908\n",
       "min         1.000000\n",
       "25%       391.500000\n",
       "50%       795.000000\n",
       "75%      1235.500000\n",
       "max      4786.000000\n",
       "Name: path, dtype: float64"
      ]
     },
     "execution_count": 7,
     "metadata": {},
     "output_type": "execute_result"
    }
   ],
   "source": [
    "# Curriculum access by counting the paths per user_id\n",
    "df_active.groupby('user_id').path.count().describe()"
   ]
  },
  {
   "cell_type": "code",
   "execution_count": 8,
   "metadata": {},
   "outputs": [],
   "source": [
    "# first quartile\n",
    "q1 = np.quantile(df_active.groupby('user_id').path.count(), .25)"
   ]
  },
  {
   "cell_type": "code",
   "execution_count": 9,
   "metadata": {},
   "outputs": [],
   "source": [
    "# find user id's in the first quartile of access count\n",
    "inq1 = pd.DataFrame(df_active.groupby('user_id').path.count() < q1)\n",
    "inq1.rename(columns = {'path':'in_q1'}, inplace=True)"
   ]
  },
  {
   "cell_type": "code",
   "execution_count": 10,
   "metadata": {},
   "outputs": [],
   "source": [
    "# add column if the user_id is in the first quartile\n",
    "df_active = pd.merge(df_active, inq1, how = 'right', on='user_id')"
   ]
  },
  {
   "cell_type": "code",
   "execution_count": 11,
   "metadata": {},
   "outputs": [],
   "source": [
    "# dataframe of students who hardly accessed curriculum while active\n",
    "df_swhacwa = df_active[df_active.in_q1 == True]"
   ]
  },
  {
   "cell_type": "code",
   "execution_count": 12,
   "metadata": {},
   "outputs": [
    {
     "data": {
      "text/plain": [
       "183"
      ]
     },
     "execution_count": 12,
     "metadata": {},
     "output_type": "execute_result"
    }
   ],
   "source": [
    "# Number of students who hardly accessed curriculum while active.\n",
    "len(df_swhacwa.user_id.unique())"
   ]
  },
  {
   "cell_type": "code",
   "execution_count": 13,
   "metadata": {},
   "outputs": [
    {
     "data": {
      "text/plain": [
       "163.02185792349727"
      ]
     },
     "execution_count": 13,
     "metadata": {},
     "output_type": "execute_result"
    }
   ],
   "source": [
    "df_swhacwa.groupby('user_id').path.count().mean()"
   ]
  },
  {
   "cell_type": "code",
   "execution_count": 14,
   "metadata": {},
   "outputs": [
    {
     "data": {
      "text/plain": [
       "21"
      ]
     },
     "execution_count": 14,
     "metadata": {},
     "output_type": "execute_result"
    }
   ],
   "source": [
    "len(df_swhacwa[df_swhacwa.program_name == 'data_science'].user_id.unique())"
   ]
  },
  {
   "cell_type": "code",
   "execution_count": 15,
   "metadata": {},
   "outputs": [
    {
     "data": {
      "text/plain": [
       "163"
      ]
     },
     "execution_count": 15,
     "metadata": {},
     "output_type": "execute_result"
    }
   ],
   "source": [
    "len(df_swhacwa[df_swhacwa.program_name == 'web_dev'].user_id.unique())"
   ]
  },
  {
   "cell_type": "code",
   "execution_count": 16,
   "metadata": {},
   "outputs": [
    {
     "data": {
      "text/plain": [
       "javascri    7861\n",
       "html-css    5976\n",
       "/           1813\n",
       "fundamen    1689\n",
       "spring/f    1398\n",
       "            ... \n",
       "arrays         1\n",
       "mysql//e       1\n",
       "advanced       1\n",
       "11-nlp/2       1\n",
       "sql.mysq       1\n",
       "Name: path, Length: 177, dtype: int64"
      ]
     },
     "execution_count": 16,
     "metadata": {},
     "output_type": "execute_result"
    }
   ],
   "source": [
    "df_swhacwa.path.str[:8].value_counts()"
   ]
  },
  {
   "cell_type": "markdown",
   "metadata": {},
   "source": [
    "#### Students who hardly accessed the curriculum while active info\n",
    "- 183 students accessed the curriculum < first quartile (391 times)\n",
    "- 163 of these students are from web_dev programs\n",
    "- 21 are from data science programs\n",
    "- 1 student is in both programs\n",
    "- Average access count of these students is 163 times\n",
    "- ~ 30k total access count"
   ]
  },
  {
   "cell_type": "markdown",
   "metadata": {},
   "source": [
    "### Q6: What topics are grads continuing to reference after graduation and into their jobs (for each program)?"
   ]
  },
  {
   "cell_type": "code",
   "execution_count": 17,
   "metadata": {},
   "outputs": [],
   "source": [
    "# Post-grad access\n",
    "df_post = df[df.date > df.end_date]"
   ]
  },
  {
   "cell_type": "code",
   "execution_count": 18,
   "metadata": {},
   "outputs": [
    {
     "data": {
      "text/plain": [
       "/             1436\n",
       "fundamenta    1052\n",
       "classifica    1034\n",
       "search/sea     493\n",
       "1-fundamen     462\n",
       "anomaly-de     452\n",
       "6-regressi     375\n",
       "timeseries     340\n",
       "regression     335\n",
       "sql/mysql-     324\n",
       "Name: path, dtype: int64"
      ]
     },
     "execution_count": 18,
     "metadata": {},
     "output_type": "execute_result"
    }
   ],
   "source": [
    "# Find data science top paths\n",
    "df_post[df_post.program_name == 'data_science'].path.str[:10].value_counts().head(10)"
   ]
  },
  {
   "cell_type": "code",
   "execution_count": 19,
   "metadata": {},
   "outputs": [
    {
     "data": {
      "text/plain": [
       "javascript    27284\n",
       "/             14088\n",
       "spring/fun    10260\n",
       "html-css/c     7524\n",
       "spring         4261\n",
       "search/sea     3681\n",
       "html-css       3678\n",
       "java-iii       3537\n",
       "java-ii        3439\n",
       "content/ph     3436\n",
       "java-i         3123\n",
       "appendix       3071\n",
       "classifica     2833\n",
       "jquery/aja     2689\n",
       "mysql          2574\n",
       "toc            2564\n",
       "jquery         2464\n",
       "fundamenta     2358\n",
       "java-iii/j     2271\n",
       "java-iii/s     2052\n",
       "Name: path, dtype: int64"
      ]
     },
     "execution_count": 19,
     "metadata": {},
     "output_type": "execute_result"
    }
   ],
   "source": [
    "# Find web dev top paths\n",
    "df_post[df_post.program_name == 'web_dev'].path.str[:10].value_counts().head(20)"
   ]
  },
  {
   "cell_type": "markdown",
   "metadata": {},
   "source": [
    "#### Data Science Graduates Top Access\n",
    "- Fundamentals\n",
    "- Classification\n",
    "- Regression\n",
    "- Anomaly Detection\n",
    "- Time Series\n",
    "\n",
    "#### Web Dev Graduates Top Access\n",
    "- Javascript\n",
    "- HTML-CSS\n",
    "- MySQL\n",
    "- Fundamentals"
   ]
  },
  {
   "cell_type": "markdown",
   "metadata": {},
   "source": [
    "### Q4: Is there any suspicious activity, such as users/machines/etc accessing the curriculum who shouldn’t be? Does it appear that any web-scraping is happening? Are there any suspicious IP addresses?"
   ]
  },
  {
   "cell_type": "code",
   "execution_count": 20,
   "metadata": {},
   "outputs": [],
   "source": [
    "df = df.set_index(df.date)"
   ]
  },
  {
   "cell_type": "code",
   "execution_count": 21,
   "metadata": {},
   "outputs": [],
   "source": [
    "def prep(df, user):\n",
    "    df = df[df.user_id == user]\n",
    "    df.date = pd.to_datetime(df.date)\n",
    "    df = df.set_index(df.date)\n",
    "    pages = df['path'].resample('d').count()\n",
    "    return pages\n",
    "\n",
    "def compute_pct_b(pages, span, weight, user):\n",
    "    midband = pages.ewm(span=span).mean()\n",
    "    stdev = pages.ewm(span=span).std()\n",
    "    ub = midband + stdev*weight\n",
    "    lb = midband - stdev*weight\n",
    "    bb = pd.concat([ub, lb], axis=1)\n",
    "    my_df = pd.concat([pages, midband, bb], axis=1)\n",
    "    my_df.columns = ['pages', 'midband', 'ub', 'lb']\n",
    "    my_df['pct_b'] = (my_df['pages'] - my_df['lb'])/(my_df['ub'] - my_df['lb'])\n",
    "    my_df['user_id'] = user\n",
    "    return my_df\n",
    "\n",
    "def plt_bands(my_df, user):\n",
    "    fig, ax = plt.subplots(figsize=(12,8))\n",
    "    ax.plot(my_df.index, my_df.pages, label='Number of Pages, User: '+str(user))\n",
    "    ax.plot(my_df.index, my_df.midband, label = 'EMA/midband')\n",
    "    ax.plot(my_df.index, my_df.ub, label = 'Upper Band')\n",
    "    ax.plot(my_df.index, my_df.lb, label = 'Lower Band')\n",
    "    ax.legend(loc='best')\n",
    "    ax.set_ylabel('Number of Pages')\n",
    "    plt.show()\n",
    "\n",
    "def find_anomalies(df, user, span, weight):\n",
    "    pages = prep(df, user)\n",
    "    my_df = compute_pct_b(pages, span, weight, user)\n",
    "    # plt_bands(my_df, user)\n",
    "    return my_df[my_df.pct_b>1]"
   ]
  },
  {
   "cell_type": "code",
   "execution_count": 22,
   "metadata": {},
   "outputs": [],
   "source": [
    "span = 30\n",
    "weight = 3.5\n",
    "\n",
    "anomalies = pd.DataFrame()\n",
    "for u in list(df.user_id.unique()):\n",
    "    user_df = find_anomalies(df, u, span, weight)\n",
    "    anomalies = pd.concat([anomalies, user_df], axis=0)"
   ]
  },
  {
   "cell_type": "code",
   "execution_count": 23,
   "metadata": {},
   "outputs": [
    {
     "data": {
      "text/plain": [
       "1      42\n",
       "2      35\n",
       "3      65\n",
       "4      74\n",
       "5      52\n",
       "       ..\n",
       "165     1\n",
       "179     1\n",
       "192     1\n",
       "198     1\n",
       "272     1\n",
       "Name: pages, Length: 97, dtype: int64"
      ]
     },
     "execution_count": 23,
     "metadata": {},
     "output_type": "execute_result"
    }
   ],
   "source": [
    "anomalies.pages.value_counts(sort=False)"
   ]
  },
  {
   "cell_type": "code",
   "execution_count": 24,
   "metadata": {},
   "outputs": [],
   "source": [
    "sus_users = anomalies[anomalies.pages > 30].user_id.to_list()"
   ]
  },
  {
   "cell_type": "code",
   "execution_count": 25,
   "metadata": {},
   "outputs": [],
   "source": [
    "df['is_sus'] = df['user_id'].isin(sus_users)"
   ]
  },
  {
   "cell_type": "code",
   "execution_count": 29,
   "metadata": {},
   "outputs": [],
   "source": [
    "ip_address = df[df.is_sus == True].ip.to_list()"
   ]
  },
  {
   "cell_type": "code",
   "execution_count": 39,
   "metadata": {},
   "outputs": [],
   "source": [
    "ip_address = np.unique(ip_address)"
   ]
  },
  {
   "cell_type": "code",
   "execution_count": 41,
   "metadata": {},
   "outputs": [
    {
     "data": {
      "text/plain": [
       "1290"
      ]
     },
     "execution_count": 41,
     "metadata": {},
     "output_type": "execute_result"
    }
   ],
   "source": [
    "len(ip_address)"
   ]
  },
  {
   "cell_type": "code",
   "execution_count": 44,
   "metadata": {},
   "outputs": [],
   "source": [
    "import json\n",
    "import requests\n",
    "import time"
   ]
  },
  {
   "cell_type": "code",
   "execution_count": 45,
   "metadata": {},
   "outputs": [],
   "source": [
    "ip_result = {}\n",
    "for ip in ip_address:\n",
    "    request_url = 'https://ipgeolocation.abstractapi.com/v1/?api_key=' + geo_key + '&ip_address=' + ip\n",
    "    response = requests.get(request_url)\n",
    "    result = json.loads(response.content)\n",
    "    ip_result[ip] = result\n",
    "    time.sleep(1.01)\n",
    "\n"
   ]
  },
  {
   "cell_type": "code",
   "execution_count": 73,
   "metadata": {},
   "outputs": [
    {
     "ename": "TypeError",
     "evalue": "string indices must be integers",
     "output_type": "error",
     "traceback": [
      "\u001b[0;31m---------------------------------------------------------------------------\u001b[0m",
      "\u001b[0;31mTypeError\u001b[0m                                 Traceback (most recent call last)",
      "\u001b[0;32m<ipython-input-73-d576ee4b203e>\u001b[0m in \u001b[0;36m<module>\u001b[0;34m\u001b[0m\n\u001b[1;32m      1\u001b[0m \u001b[0;32mfor\u001b[0m \u001b[0mip\u001b[0m \u001b[0;32min\u001b[0m \u001b[0mip_result\u001b[0m\u001b[0;34m:\u001b[0m\u001b[0;34m\u001b[0m\u001b[0;34m\u001b[0m\u001b[0m\n\u001b[0;32m----> 2\u001b[0;31m    \u001b[0mprint\u001b[0m\u001b[0;34m(\u001b[0m\u001b[0mip\u001b[0m\u001b[0;34m[\u001b[0m\u001b[0;34m'country'\u001b[0m\u001b[0;34m]\u001b[0m\u001b[0;34m)\u001b[0m\u001b[0;34m\u001b[0m\u001b[0;34m\u001b[0m\u001b[0m\n\u001b[0m",
      "\u001b[0;31mTypeError\u001b[0m: string indices must be integers"
     ]
    }
   ],
   "source": [
    "for ip in ip_result:\n"
   ]
  },
  {
   "cell_type": "code",
   "execution_count": 96,
   "metadata": {},
   "outputs": [],
   "source": [
    "countries = []\n",
    "ip_list = []\n",
    "for ip in ip_result:\n",
    "    countries.append(ip_result[ip]['country'])\n",
    "    ip_list.append(ip)"
   ]
  },
  {
   "cell_type": "code",
   "execution_count": 98,
   "metadata": {},
   "outputs": [],
   "source": [
    "countries = pd.DataFrame(countries)\n",
    "ip_list = pd.DataFrame(ip_list)"
   ]
  },
  {
   "cell_type": "code",
   "execution_count": 106,
   "metadata": {},
   "outputs": [],
   "source": [
    "sus_ip_countries = pd.merge(countries,ip_list,how='outer',left_index=True,right_index=True)"
   ]
  },
  {
   "cell_type": "code",
   "execution_count": 109,
   "metadata": {},
   "outputs": [],
   "source": [
    "sus_ip_countries.rename(columns={'0_x':'country','0_y':'ip'},inplace = True)"
   ]
  },
  {
   "cell_type": "code",
   "execution_count": 112,
   "metadata": {},
   "outputs": [],
   "source": [
    "sus_ip_countries.to_csv('suspicious_ip_countries.csv')"
   ]
  },
  {
   "cell_type": "code",
   "execution_count": 113,
   "metadata": {},
   "outputs": [
    {
     "data": {
      "text/plain": [
       "United States    1281\n",
       "Mexico              4\n",
       "Germany             3\n",
       "Switzerland         1\n",
       "Canada              1\n",
       "Name: country, dtype: int64"
      ]
     },
     "execution_count": 113,
     "metadata": {},
     "output_type": "execute_result"
    }
   ],
   "source": [
    "sus_ip_countries.country.value_counts()"
   ]
  },
  {
   "cell_type": "markdown",
   "metadata": {},
   "source": [
    "Odd access from Mexico, Germany, Switzerland, Canada"
   ]
  },
  {
   "cell_type": "code",
   "execution_count": null,
   "metadata": {},
   "outputs": [],
   "source": []
  }
 ],
 "metadata": {
  "interpreter": {
   "hash": "38cca0c38332a56087b24af0bc80247f4fced29cb4f7f437d91dc159adec9c4e"
  },
  "kernelspec": {
   "display_name": "Python 3.8.8 64-bit ('base': conda)",
   "language": "python",
   "name": "python3"
  },
  "language_info": {
   "codemirror_mode": {
    "name": "ipython",
    "version": 3
   },
   "file_extension": ".py",
   "mimetype": "text/x-python",
   "name": "python",
   "nbconvert_exporter": "python",
   "pygments_lexer": "ipython3",
   "version": "3.8.8"
  },
  "orig_nbformat": 4
 },
 "nbformat": 4,
 "nbformat_minor": 2
}
