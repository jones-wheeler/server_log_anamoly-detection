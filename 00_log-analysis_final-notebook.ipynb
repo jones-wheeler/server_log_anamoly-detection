{
 "cells": [
  {
   "cell_type": "markdown",
   "id": "e554d5d7",
   "metadata": {},
   "source": [
    "# Curriculum Log Acess Analysis | Report\n",
    ">Stephanie Jones<br>\n",
    "Joshua Wheeler<br>\n",
    "Monday, January 31, 2022"
   ]
  },
  {
   "cell_type": "markdown",
   "id": "7ff8318a",
   "metadata": {},
   "source": [
    "## Q&A Overview\n",
    "#### 1. Across programs, which lesson attracts the most traffic consistently across cohorts?\n",
    "> This is an answer.\n",
    "#### 2. Is there a cohort that referred to a lesson significantly more that other cohorts seemed to gloss over?\n",
    "#### 3. Are there students who, when active, hardly access the curriculum? \n",
    "    - If so, what information do you have about these students?\n",
    "#### 4. Is there any suspicious activity, such as users/machines/etc accessing the curriculum who shouldn’t be? \n",
    "    - Does it appear that any web-scraping is happening? Are there any suspicious IP addresses?\n",
    "#### 5. At some point in 2019, the ability for students and alumni to access both curriculums (web dev to ds, ds to web dev) should have been shut off. \n",
    "    - Do you see any evidence of that happening? Did it happen before?\n",
    "#### 6. What topics are grads continuing to reference after graduation and into their jobs (for each program)?\n",
    "#### 7. Which lessons are least accessed?\n",
    "#### 8. Anything else I should be aware of?"
   ]
  },
  {
   "cell_type": "code",
   "execution_count": null,
   "id": "cba4a809",
   "metadata": {},
   "outputs": [],
   "source": []
  }
 ],
 "metadata": {
  "kernelspec": {
   "display_name": "Python 3",
   "language": "python",
   "name": "python3"
  },
  "language_info": {
   "codemirror_mode": {
    "name": "ipython",
    "version": 3
   },
   "file_extension": ".py",
   "mimetype": "text/x-python",
   "name": "python",
   "nbconvert_exporter": "python",
   "pygments_lexer": "ipython3",
   "version": "3.8.8"
  }
 },
 "nbformat": 4,
 "nbformat_minor": 5
}
