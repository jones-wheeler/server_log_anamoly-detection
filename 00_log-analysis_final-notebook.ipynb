{
 "cells": [
  {
   "cell_type": "markdown",
   "id": "1fb2fae0",
   "metadata": {},
   "source": [
    "# Curriculum Log Acess Analysis | Report\n",
    ">Stephanie Jones<br>\n",
    "Joshua Wheeler<br>\n",
    "Monday, January 31, 2022"
   ]
  },
  {
   "attachments": {},
   "cell_type": "markdown",
   "id": "512fe70b",
   "metadata": {},
   "source": [
    "## Q&A Overview\n",
    "#### 1. Across programs, which lesson attracts the most traffic consistently across cohorts?\n",
    "> Across programs the **mysql lesson** attracts the most traffic, consistently across each cohort."
   ]
  },
  {
   "attachments": {},
   "cell_type": "markdown",
   "id": "156f7292",
   "metadata": {},
   "source": [
    "#### 2. Is there a cohort that referred to a lesson significantly more that other cohorts seemed to gloss over?\n",
    ">### Data Science Lessons\n",
    ">#### 1. Darden has almost twice as many hits for `clustering/explore` than the other two cohorts\n",
    ">#### 2. Curie, one of the older cohorts, has more than double the hits for the `mysql-introduction/overview` than the other cohorts who accessed this lesson\n",
    ">#### 3. Darden has almost double the hits for `stats/compare-means` lesson than Curie or Easley\n",
    "\n",
    "Lesson | Hit Hard | Glossed Over \n",
    ":--- | :--- | :--- | \n",
    "1. `clustering/explore` | `Darden` | `Curie`, `Easley` \n",
    "2. `sql/mysql-overview / intro` | `Curie` | `Darden`, `Easley`, `Florence`\n",
    "3. `stats/compare-means` | `Darden`| `Curie`, `Easley` \n",
    "\n",
    "#### 3. Are there students who, when active, hardly access the curriculum? \n",
    ">**Students who hardly accessed the curriculum while active info:** \n",
    ">- 183 students accessed the curriculum < first quartile (*391 times*)\n",
    "    - 163 of these students are from `web_dev` programs\n",
    "    - 21 are from `data science` programs\n",
    "    - 1 student is in both programs\n",
    ">- Average access count of these students is 163 times\n",
    ">- ~ 30k total access count\n",
    "\n",
    "#### 4. Is there any suspicious activity, such as users/machines/etc accessing the curriculum who shouldn’t be? \n",
    ">- United States    1281\n",
    ">- Mexico              4\n",
    ">- Germany             3\n",
    ">- Switzerland         1\n",
    ">- Canada              1\n",
    "#### 5. At some point in 2019, the ability for students and alumni to access both curriculums (web dev to ds, ds to web dev) should have been shut off. Do you see any evidence of that happening? Did it happen before?\n",
    ">It does not look like there was much cross-curriculum access prior to the split.\n",
    "#### 6. What topics are grads continuing to reference after graduation and into their jobs (for each program)?\n",
    ">**Data Science Graduates Top Access**\n",
    ">- Fundamentals\n",
    ">- Classification\n",
    ">- Regression\n",
    ">- Anomaly Detection\n",
    ">- Time Series\n",
    "\n",
    ">**Web Dev Graduates Top Access**\n",
    ">- Javascript\n",
    ">- HTML-CSS\n",
    ">- MySQL\n",
    ">- Fundamentals\n",
    "#### 7. Which lessons are least accessed?\n",
    "#### 8. Anything else I should be aware of?"
   ]
  },
  {
   "cell_type": "code",
   "execution_count": null,
   "id": "3b943463",
   "metadata": {},
   "outputs": [],
   "source": []
  }
 ],
 "metadata": {
  "kernelspec": {
   "display_name": "Python 3",
   "language": "python",
   "name": "python3"
  },
  "language_info": {
   "codemirror_mode": {
    "name": "ipython",
    "version": 3
   },
   "file_extension": ".py",
   "mimetype": "text/x-python",
   "name": "python",
   "nbconvert_exporter": "python",
   "pygments_lexer": "ipython3",
   "version": "3.8.8"
  }
 },
 "nbformat": 4,
 "nbformat_minor": 5
}
