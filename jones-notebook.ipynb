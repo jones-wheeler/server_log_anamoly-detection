{
 "cells": [
  {
   "cell_type": "code",
   "execution_count": 1,
   "id": "c1d18150",
   "metadata": {},
   "outputs": [],
   "source": [
    "import wrangle\n"
   ]
  },
  {
   "cell_type": "markdown",
   "id": "decacfc9",
   "metadata": {},
   "source": [
    "Importing data from csv file and reading to df using `wrangle.py` function"
   ]
  },
  {
   "cell_type": "code",
   "execution_count": 2,
   "id": "60b510e8",
   "metadata": {},
   "outputs": [
    {
     "name": "stdout",
     "output_type": "stream",
     "text": [
      "The df has 847330 rows and 10 columns.\n"
     ]
    },
    {
     "data": {
      "text/html": [
       "<div>\n",
       "<style scoped>\n",
       "    .dataframe tbody tr th:only-of-type {\n",
       "        vertical-align: middle;\n",
       "    }\n",
       "\n",
       "    .dataframe tbody tr th {\n",
       "        vertical-align: top;\n",
       "    }\n",
       "\n",
       "    .dataframe thead th {\n",
       "        text-align: right;\n",
       "    }\n",
       "</style>\n",
       "<table border=\"1\" class=\"dataframe\">\n",
       "  <thead>\n",
       "    <tr style=\"text-align: right;\">\n",
       "      <th></th>\n",
       "      <th>cohortid</th>\n",
       "      <th>start_date</th>\n",
       "      <th>end_date</th>\n",
       "      <th>cohortname</th>\n",
       "      <th>program_id</th>\n",
       "      <th>date</th>\n",
       "      <th>time</th>\n",
       "      <th>path</th>\n",
       "      <th>user_id</th>\n",
       "      <th>ip</th>\n",
       "      <th>program_name</th>\n",
       "      <th>is_staff</th>\n",
       "    </tr>\n",
       "  </thead>\n",
       "  <tbody>\n",
       "    <tr>\n",
       "      <th>0</th>\n",
       "      <td>1</td>\n",
       "      <td>2014-02-04</td>\n",
       "      <td>2014-04-22</td>\n",
       "      <td>Arches</td>\n",
       "      <td>1</td>\n",
       "      <td>2018-01-26</td>\n",
       "      <td>10:14:47</td>\n",
       "      <td>/</td>\n",
       "      <td>11</td>\n",
       "      <td>97.105.19.61</td>\n",
       "      <td>web_dev</td>\n",
       "      <td>False</td>\n",
       "    </tr>\n",
       "    <tr>\n",
       "      <th>1</th>\n",
       "      <td>1</td>\n",
       "      <td>2014-02-04</td>\n",
       "      <td>2014-04-22</td>\n",
       "      <td>Arches</td>\n",
       "      <td>1</td>\n",
       "      <td>2018-01-26</td>\n",
       "      <td>10:14:51</td>\n",
       "      <td>javascript-i</td>\n",
       "      <td>11</td>\n",
       "      <td>97.105.19.61</td>\n",
       "      <td>web_dev</td>\n",
       "      <td>False</td>\n",
       "    </tr>\n",
       "    <tr>\n",
       "      <th>2</th>\n",
       "      <td>1</td>\n",
       "      <td>2014-02-04</td>\n",
       "      <td>2014-04-22</td>\n",
       "      <td>Arches</td>\n",
       "      <td>1</td>\n",
       "      <td>2018-01-26</td>\n",
       "      <td>10:15:02</td>\n",
       "      <td>javascript-i/functions</td>\n",
       "      <td>11</td>\n",
       "      <td>97.105.19.61</td>\n",
       "      <td>web_dev</td>\n",
       "      <td>False</td>\n",
       "    </tr>\n",
       "    <tr>\n",
       "      <th>3</th>\n",
       "      <td>1</td>\n",
       "      <td>2014-02-04</td>\n",
       "      <td>2014-04-22</td>\n",
       "      <td>Arches</td>\n",
       "      <td>1</td>\n",
       "      <td>2018-01-26</td>\n",
       "      <td>11:46:29</td>\n",
       "      <td>appendix/further-reading/javascript/hoisting.html</td>\n",
       "      <td>11</td>\n",
       "      <td>97.105.19.61</td>\n",
       "      <td>web_dev</td>\n",
       "      <td>False</td>\n",
       "    </tr>\n",
       "    <tr>\n",
       "      <th>4</th>\n",
       "      <td>1</td>\n",
       "      <td>2014-02-04</td>\n",
       "      <td>2014-04-22</td>\n",
       "      <td>Arches</td>\n",
       "      <td>1</td>\n",
       "      <td>2018-01-26</td>\n",
       "      <td>11:46:39</td>\n",
       "      <td>appendix</td>\n",
       "      <td>11</td>\n",
       "      <td>97.105.19.61</td>\n",
       "      <td>web_dev</td>\n",
       "      <td>False</td>\n",
       "    </tr>\n",
       "  </tbody>\n",
       "</table>\n",
       "</div>"
      ],
      "text/plain": [
       "   cohortid start_date   end_date cohortname  program_id       date      time  \\\n",
       "0         1 2014-02-04 2014-04-22     Arches           1 2018-01-26  10:14:47   \n",
       "1         1 2014-02-04 2014-04-22     Arches           1 2018-01-26  10:14:51   \n",
       "2         1 2014-02-04 2014-04-22     Arches           1 2018-01-26  10:15:02   \n",
       "3         1 2014-02-04 2014-04-22     Arches           1 2018-01-26  11:46:29   \n",
       "4         1 2014-02-04 2014-04-22     Arches           1 2018-01-26  11:46:39   \n",
       "\n",
       "                                                path  user_id            ip  \\\n",
       "0                                                  /       11  97.105.19.61   \n",
       "1                                       javascript-i       11  97.105.19.61   \n",
       "2                             javascript-i/functions       11  97.105.19.61   \n",
       "3  appendix/further-reading/javascript/hoisting.html       11  97.105.19.61   \n",
       "4                                           appendix       11  97.105.19.61   \n",
       "\n",
       "  program_name  is_staff  \n",
       "0      web_dev     False  \n",
       "1      web_dev     False  \n",
       "2      web_dev     False  \n",
       "3      web_dev     False  \n",
       "4      web_dev     False  "
      ]
     },
     "execution_count": 2,
     "metadata": {},
     "output_type": "execute_result"
    }
   ],
   "source": [
    "df = wrangle.get_curriculum_logs_data()\n",
    "df.head()"
   ]
  },
  {
   "cell_type": "markdown",
   "id": "f0259eb4",
   "metadata": {},
   "source": [
    "Getting familiar with the data..."
   ]
  },
  {
   "cell_type": "code",
   "execution_count": 10,
   "id": "04d144ce",
   "metadata": {
    "scrolled": false
   },
   "outputs": [
    {
     "name": "stdout",
     "output_type": "stream",
     "text": [
      "cohortid has more than 8 unique values.\n",
      "\n",
      "start_date has more than 8 unique values.\n",
      "\n",
      "end_date has more than 8 unique values.\n",
      "\n",
      "cohortname has more than 8 unique values.\n",
      "\n",
      "Unique values for program_id:\n",
      "2    713365\n",
      "3    103412\n",
      "1     30548\n",
      "4         5\n",
      "Name: program_id, dtype: int64\n",
      "\n",
      "date has more than 8 unique values.\n",
      "\n",
      "time has more than 8 unique values.\n",
      "\n",
      "path has more than 8 unique values.\n",
      "\n",
      "user_id has more than 8 unique values.\n",
      "\n",
      "ip has more than 8 unique values.\n",
      "\n",
      "Unique values for program_name:\n",
      "web_dev         743918\n",
      "data_science    103412\n",
      "Name: program_name, dtype: int64\n",
      "\n",
      "Unique values for is_staff:\n",
      "False    763299\n",
      "True      84031\n",
      "Name: is_staff, dtype: int64\n",
      "\n"
     ]
    }
   ],
   "source": [
    "for col in df.columns:\n",
    "    if df[col].nunique() < 8:\n",
    "        print(f'Unique values for {col}:')\n",
    "        print(df[col].value_counts())\n",
    "#         print(f'{col} has {df[col].nunique()} unique values.')\n",
    "        print()\n",
    "    else:\n",
    "        print(f'{col} has more than 8 unique values.')\n",
    "        print()"
   ]
  },
  {
   "cell_type": "code",
   "execution_count": null,
   "id": "6de10038",
   "metadata": {},
   "outputs": [],
   "source": []
  },
  {
   "cell_type": "code",
   "execution_count": 3,
   "id": "e1234fe2",
   "metadata": {},
   "outputs": [
    {
     "name": "stdout",
     "output_type": "stream",
     "text": [
      "There is 1 null value(s).\n",
      "\n",
      "<class 'pandas.core.frame.DataFrame'>\n",
      "Int64Index: 847330 entries, 0 to 847329\n",
      "Data columns (total 12 columns):\n",
      " #   Column        Non-Null Count   Dtype         \n",
      "---  ------        --------------   -----         \n",
      " 0   cohortid      847330 non-null  int64         \n",
      " 1   start_date    847330 non-null  datetime64[ns]\n",
      " 2   end_date      847330 non-null  datetime64[ns]\n",
      " 3   cohortname    847330 non-null  object        \n",
      " 4   program_id    847330 non-null  int64         \n",
      " 5   date          847330 non-null  datetime64[ns]\n",
      " 6   time          847330 non-null  object        \n",
      " 7   path          847329 non-null  object        \n",
      " 8   user_id       847330 non-null  int64         \n",
      " 9   ip            847330 non-null  object        \n",
      " 10  program_name  847330 non-null  object        \n",
      " 11  is_staff      847330 non-null  bool          \n",
      "dtypes: bool(1), datetime64[ns](3), int64(3), object(5)\n",
      "memory usage: 78.4+ MB\n",
      "None\n"
     ]
    }
   ],
   "source": [
    "print(f'There is {df.isna().sum().sum()} null value(s).')\n",
    "print()\n",
    "print(df.info())"
   ]
  },
  {
   "cell_type": "markdown",
   "id": "65545b87",
   "metadata": {},
   "source": [
    "Investigating the x1 null value . . ."
   ]
  },
  {
   "cell_type": "code",
   "execution_count": 11,
   "id": "56ccaf4d",
   "metadata": {},
   "outputs": [
    {
     "data": {
      "text/html": [
       "<div>\n",
       "<style scoped>\n",
       "    .dataframe tbody tr th:only-of-type {\n",
       "        vertical-align: middle;\n",
       "    }\n",
       "\n",
       "    .dataframe tbody tr th {\n",
       "        vertical-align: top;\n",
       "    }\n",
       "\n",
       "    .dataframe thead th {\n",
       "        text-align: right;\n",
       "    }\n",
       "</style>\n",
       "<table border=\"1\" class=\"dataframe\">\n",
       "  <thead>\n",
       "    <tr style=\"text-align: right;\">\n",
       "      <th></th>\n",
       "      <th>cohortid</th>\n",
       "      <th>start_date</th>\n",
       "      <th>end_date</th>\n",
       "      <th>cohortname</th>\n",
       "      <th>program_id</th>\n",
       "      <th>date</th>\n",
       "      <th>time</th>\n",
       "      <th>path</th>\n",
       "      <th>user_id</th>\n",
       "      <th>ip</th>\n",
       "      <th>program_name</th>\n",
       "      <th>is_staff</th>\n",
       "    </tr>\n",
       "  </thead>\n",
       "  <tbody>\n",
       "    <tr>\n",
       "      <th>562633</th>\n",
       "      <td>55</td>\n",
       "      <td>2020-02-03</td>\n",
       "      <td>2020-07-07</td>\n",
       "      <td>Curie</td>\n",
       "      <td>3</td>\n",
       "      <td>2020-04-08</td>\n",
       "      <td>09:25:18</td>\n",
       "      <td>NaN</td>\n",
       "      <td>586</td>\n",
       "      <td>72.177.240.51</td>\n",
       "      <td>data_science</td>\n",
       "      <td>False</td>\n",
       "    </tr>\n",
       "  </tbody>\n",
       "</table>\n",
       "</div>"
      ],
      "text/plain": [
       "        cohortid start_date   end_date cohortname  program_id       date  \\\n",
       "562633        55 2020-02-03 2020-07-07      Curie           3 2020-04-08   \n",
       "\n",
       "            time path  user_id             ip  program_name  is_staff  \n",
       "562633  09:25:18  NaN      586  72.177.240.51  data_science     False  "
      ]
     },
     "execution_count": 11,
     "metadata": {},
     "output_type": "execute_result"
    }
   ],
   "source": [
    "# investigating the x1 null value\n",
    "df[df.path.isna()]"
   ]
  },
  {
   "cell_type": "markdown",
   "id": "8b98777b",
   "metadata": {},
   "source": [
    "What I know about the x1 null:\n",
    "- For this log entry, the curriculum was accessed between cohort start and end dates, in the morning\n",
    "- This was a user from the `Curie` cohort\n",
    "- The null log was from user `586`"
   ]
  },
  {
   "cell_type": "code",
   "execution_count": 5,
   "id": "11115e02",
   "metadata": {},
   "outputs": [],
   "source": [
    "# df[(df.cohortname == 'Curie') & (df.date == '2020-04-08') & (df.time <= '09:30:00') & (df.user_id == 586)]\\\n",
    "#                                             .sort_values(by = 'time')"
   ]
  },
  {
   "cell_type": "markdown",
   "id": "8d34ed60",
   "metadata": {},
   "source": [
    "Since the null value is only a tiny fraction of the total data will drop for now. In second look can also check what other cohort-mates were looking at around this time +/- 5 or 10m and take the mode and fill the na."
   ]
  },
  {
   "cell_type": "code",
   "execution_count": 12,
   "id": "bb0bc9e6",
   "metadata": {},
   "outputs": [
    {
     "data": {
      "text/plain": [
       "(847329, 12)"
      ]
     },
     "execution_count": 12,
     "metadata": {},
     "output_type": "execute_result"
    }
   ],
   "source": [
    "df.dropna(inplace = True)\n",
    "df.shape"
   ]
  },
  {
   "cell_type": "code",
   "execution_count": null,
   "id": "4b24a172",
   "metadata": {},
   "outputs": [],
   "source": []
  }
 ],
 "metadata": {
  "kernelspec": {
   "display_name": "Python 3",
   "language": "python",
   "name": "python3"
  },
  "language_info": {
   "codemirror_mode": {
    "name": "ipython",
    "version": 3
   },
   "file_extension": ".py",
   "mimetype": "text/x-python",
   "name": "python",
   "nbconvert_exporter": "python",
   "pygments_lexer": "ipython3",
   "version": "3.8.8"
  }
 },
 "nbformat": 4,
 "nbformat_minor": 5
}
